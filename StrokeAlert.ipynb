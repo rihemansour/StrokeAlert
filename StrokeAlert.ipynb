{
 "cells": [
  {
   "cell_type": "code",
   "execution_count": 1,
   "id": "acfe0eb3",
   "metadata": {},
   "outputs": [],
   "source": [
    "import pandas as pd\n",
    "import matplotlib.pyplot as plt\n",
    "import seaborn as sns\n",
    "import numpy as np"
   ]
  },
  {
   "cell_type": "markdown",
   "id": "5cf7f32c",
   "metadata": {},
   "source": [
    "# Importing data"
   ]
  },
  {
   "cell_type": "code",
   "execution_count": 2,
   "id": "5b2b877c",
   "metadata": {},
   "outputs": [],
   "source": [
    "my_data = pd.read_csv(\"/Users/mobilegalery/Desktop/projet_machine_learning/datasets/healthcare-dataset-stroke-data.csv\")\n",
    "my_data2 = pd.read_csv(\"/Users/mobilegalery/Desktop/projet_machine_learning/datasets/dataset.csv\")\n",
    "my_data3 = pd.read_csv(\"/Users/mobilegalery/Desktop/projet_machine_learning/datasets/stroke_data.csv\")"
   ]
  },
  {
   "cell_type": "markdown",
   "id": "d30c76b0",
   "metadata": {},
   "source": [
    "# Processing data"
   ]
  },
  {
   "cell_type": "code",
   "execution_count": 3,
   "id": "8d2ac40f",
   "metadata": {},
   "outputs": [],
   "source": [
    "def encode_gender(x):\n",
    "    if(x==\"Male\" or x==\"Other\"):\n",
    "        return 1\n",
    "    if (x==\"Female\"):\n",
    "        return 0\n",
    "    return x\n",
    "\n",
    "def encode_work_type(x):\n",
    "    if(x==\"Private\"):\n",
    "        return 4\n",
    "    if(x==\"Self-employed\"):\n",
    "        return 3\n",
    "    if(x==\"Govt_job\"):\n",
    "        return 2\n",
    "    if(x==\"children\"):\n",
    "        return 1\n",
    "    if(x==\"Never_worked\"):\n",
    "        return 0\n",
    "    \n",
    "def encode_residence_type(x):\n",
    "    if(x==\"Urban\"):\n",
    "        return 1\n",
    "    if(x==\"Rural\"):\n",
    "        return 0\n",
    "\n",
    "def encode_smoking_status(x):\n",
    "    if(x==\"smokes\"):\n",
    "        return 1\n",
    "    if(x in [\"formerly smoked\",\"never smoked\",\"Unknown\"]):\n",
    "        return 0\n",
    "    \n",
    "def encode_marriage_status(x):\n",
    "    if(x==\"Yes\"):\n",
    "        return 1\n",
    "    if(x==\"No\"):\n",
    "        return 0"
   ]
  },
  {
   "cell_type": "code",
   "execution_count": 4,
   "id": "432f2e81",
   "metadata": {},
   "outputs": [],
   "source": [
    "my_data[\"gender\"]= my_data[\"gender\"].apply(encode_gender)\n",
    "my_data2[\"gender\"]= my_data2[\"gender\"].apply(encode_gender)\n",
    "my_data3.rename(columns={'sex': 'gender'}, inplace=True)"
   ]
  },
  {
   "cell_type": "code",
   "execution_count": 5,
   "id": "4d1eb240",
   "metadata": {},
   "outputs": [],
   "source": [
    "my_data[\"work_type\"]= my_data[\"work_type\"].apply(encode_work_type)\n",
    "my_data2[\"work_type\"]= my_data2[\"work_type\"].apply(encode_work_type)"
   ]
  },
  {
   "cell_type": "code",
   "execution_count": 6,
   "id": "74d54a4f",
   "metadata": {},
   "outputs": [],
   "source": [
    "my_data[\"Residence_type\"]= my_data[\"Residence_type\"].apply(encode_residence_type)\n",
    "my_data2[\"Residence_type\"]= my_data2[\"Residence_type\"].apply(encode_residence_type)"
   ]
  },
  {
   "cell_type": "code",
   "execution_count": 7,
   "id": "354f4e44",
   "metadata": {},
   "outputs": [],
   "source": [
    "my_data[\"smoking_status\"]= my_data[\"smoking_status\"].apply(encode_smoking_status)\n",
    "my_data2[\"smoking_status\"]= my_data2[\"smoking_status\"].apply(encode_smoking_status)"
   ]
  },
  {
   "cell_type": "code",
   "execution_count": 8,
   "id": "2f3e3068",
   "metadata": {},
   "outputs": [],
   "source": [
    "my_data[\"ever_married\"]= my_data[\"ever_married\"].apply(encode_marriage_status)\n",
    "my_data2[\"ever_married\"]= my_data2[\"ever_married\"].apply(encode_marriage_status)"
   ]
  },
  {
   "cell_type": "code",
   "execution_count": 9,
   "id": "f7c1a668",
   "metadata": {},
   "outputs": [],
   "source": [
    "my_data = my_data.drop(columns=['id'])\n",
    "my_data2 = my_data2.drop(columns=['id'])"
   ]
  },
  {
   "cell_type": "code",
   "execution_count": 10,
   "id": "02df7ea3",
   "metadata": {
    "scrolled": false
   },
   "outputs": [
    {
     "data": {
      "text/html": [
       "<div>\n",
       "<style scoped>\n",
       "    .dataframe tbody tr th:only-of-type {\n",
       "        vertical-align: middle;\n",
       "    }\n",
       "\n",
       "    .dataframe tbody tr th {\n",
       "        vertical-align: top;\n",
       "    }\n",
       "\n",
       "    .dataframe thead th {\n",
       "        text-align: right;\n",
       "    }\n",
       "</style>\n",
       "<table border=\"1\" class=\"dataframe\">\n",
       "  <thead>\n",
       "    <tr style=\"text-align: right;\">\n",
       "      <th></th>\n",
       "      <th>gender</th>\n",
       "      <th>age</th>\n",
       "      <th>hypertension</th>\n",
       "      <th>heart_disease</th>\n",
       "      <th>ever_married</th>\n",
       "      <th>work_type</th>\n",
       "      <th>Residence_type</th>\n",
       "      <th>avg_glucose_level</th>\n",
       "      <th>bmi</th>\n",
       "      <th>smoking_status</th>\n",
       "      <th>stroke</th>\n",
       "    </tr>\n",
       "  </thead>\n",
       "  <tbody>\n",
       "    <tr>\n",
       "      <th>0</th>\n",
       "      <td>1.0</td>\n",
       "      <td>67.0</td>\n",
       "      <td>0</td>\n",
       "      <td>1</td>\n",
       "      <td>1</td>\n",
       "      <td>4</td>\n",
       "      <td>1</td>\n",
       "      <td>228.69</td>\n",
       "      <td>36.6</td>\n",
       "      <td>0.0</td>\n",
       "      <td>1</td>\n",
       "    </tr>\n",
       "    <tr>\n",
       "      <th>1</th>\n",
       "      <td>0.0</td>\n",
       "      <td>61.0</td>\n",
       "      <td>0</td>\n",
       "      <td>0</td>\n",
       "      <td>1</td>\n",
       "      <td>3</td>\n",
       "      <td>0</td>\n",
       "      <td>202.21</td>\n",
       "      <td>NaN</td>\n",
       "      <td>0.0</td>\n",
       "      <td>1</td>\n",
       "    </tr>\n",
       "    <tr>\n",
       "      <th>2</th>\n",
       "      <td>1.0</td>\n",
       "      <td>80.0</td>\n",
       "      <td>0</td>\n",
       "      <td>1</td>\n",
       "      <td>1</td>\n",
       "      <td>4</td>\n",
       "      <td>0</td>\n",
       "      <td>105.92</td>\n",
       "      <td>32.5</td>\n",
       "      <td>0.0</td>\n",
       "      <td>1</td>\n",
       "    </tr>\n",
       "    <tr>\n",
       "      <th>3</th>\n",
       "      <td>0.0</td>\n",
       "      <td>49.0</td>\n",
       "      <td>0</td>\n",
       "      <td>0</td>\n",
       "      <td>1</td>\n",
       "      <td>4</td>\n",
       "      <td>1</td>\n",
       "      <td>171.23</td>\n",
       "      <td>34.4</td>\n",
       "      <td>1.0</td>\n",
       "      <td>1</td>\n",
       "    </tr>\n",
       "    <tr>\n",
       "      <th>4</th>\n",
       "      <td>0.0</td>\n",
       "      <td>79.0</td>\n",
       "      <td>1</td>\n",
       "      <td>0</td>\n",
       "      <td>1</td>\n",
       "      <td>3</td>\n",
       "      <td>0</td>\n",
       "      <td>174.12</td>\n",
       "      <td>24.0</td>\n",
       "      <td>0.0</td>\n",
       "      <td>1</td>\n",
       "    </tr>\n",
       "    <tr>\n",
       "      <th>...</th>\n",
       "      <td>...</td>\n",
       "      <td>...</td>\n",
       "      <td>...</td>\n",
       "      <td>...</td>\n",
       "      <td>...</td>\n",
       "      <td>...</td>\n",
       "      <td>...</td>\n",
       "      <td>...</td>\n",
       "      <td>...</td>\n",
       "      <td>...</td>\n",
       "      <td>...</td>\n",
       "    </tr>\n",
       "    <tr>\n",
       "      <th>89415</th>\n",
       "      <td>1.0</td>\n",
       "      <td>38.0</td>\n",
       "      <td>0</td>\n",
       "      <td>0</td>\n",
       "      <td>0</td>\n",
       "      <td>4</td>\n",
       "      <td>1</td>\n",
       "      <td>120.94</td>\n",
       "      <td>29.7</td>\n",
       "      <td>1.0</td>\n",
       "      <td>0</td>\n",
       "    </tr>\n",
       "    <tr>\n",
       "      <th>89416</th>\n",
       "      <td>0.0</td>\n",
       "      <td>53.0</td>\n",
       "      <td>0</td>\n",
       "      <td>0</td>\n",
       "      <td>1</td>\n",
       "      <td>4</td>\n",
       "      <td>0</td>\n",
       "      <td>77.66</td>\n",
       "      <td>40.8</td>\n",
       "      <td>0.0</td>\n",
       "      <td>0</td>\n",
       "    </tr>\n",
       "    <tr>\n",
       "      <th>89417</th>\n",
       "      <td>1.0</td>\n",
       "      <td>32.0</td>\n",
       "      <td>0</td>\n",
       "      <td>0</td>\n",
       "      <td>1</td>\n",
       "      <td>2</td>\n",
       "      <td>0</td>\n",
       "      <td>231.95</td>\n",
       "      <td>33.2</td>\n",
       "      <td>0.0</td>\n",
       "      <td>0</td>\n",
       "    </tr>\n",
       "    <tr>\n",
       "      <th>89418</th>\n",
       "      <td>1.0</td>\n",
       "      <td>42.0</td>\n",
       "      <td>0</td>\n",
       "      <td>0</td>\n",
       "      <td>1</td>\n",
       "      <td>3</td>\n",
       "      <td>0</td>\n",
       "      <td>216.38</td>\n",
       "      <td>34.5</td>\n",
       "      <td>0.0</td>\n",
       "      <td>0</td>\n",
       "    </tr>\n",
       "    <tr>\n",
       "      <th>89419</th>\n",
       "      <td>1.0</td>\n",
       "      <td>35.0</td>\n",
       "      <td>0</td>\n",
       "      <td>0</td>\n",
       "      <td>0</td>\n",
       "      <td>4</td>\n",
       "      <td>0</td>\n",
       "      <td>95.01</td>\n",
       "      <td>28.0</td>\n",
       "      <td>0.0</td>\n",
       "      <td>0</td>\n",
       "    </tr>\n",
       "  </tbody>\n",
       "</table>\n",
       "<p>89420 rows × 11 columns</p>\n",
       "</div>"
      ],
      "text/plain": [
       "       gender   age  hypertension  heart_disease  ever_married  work_type  \\\n",
       "0         1.0  67.0             0              1             1          4   \n",
       "1         0.0  61.0             0              0             1          3   \n",
       "2         1.0  80.0             0              1             1          4   \n",
       "3         0.0  49.0             0              0             1          4   \n",
       "4         0.0  79.0             1              0             1          3   \n",
       "...       ...   ...           ...            ...           ...        ...   \n",
       "89415     1.0  38.0             0              0             0          4   \n",
       "89416     0.0  53.0             0              0             1          4   \n",
       "89417     1.0  32.0             0              0             1          2   \n",
       "89418     1.0  42.0             0              0             1          3   \n",
       "89419     1.0  35.0             0              0             0          4   \n",
       "\n",
       "       Residence_type  avg_glucose_level   bmi  smoking_status  stroke  \n",
       "0                   1             228.69  36.6             0.0       1  \n",
       "1                   0             202.21   NaN             0.0       1  \n",
       "2                   0             105.92  32.5             0.0       1  \n",
       "3                   1             171.23  34.4             1.0       1  \n",
       "4                   0             174.12  24.0             0.0       1  \n",
       "...               ...                ...   ...             ...     ...  \n",
       "89415               1             120.94  29.7             1.0       0  \n",
       "89416               0              77.66  40.8             0.0       0  \n",
       "89417               0             231.95  33.2             0.0       0  \n",
       "89418               0             216.38  34.5             0.0       0  \n",
       "89419               0              95.01  28.0             0.0       0  \n",
       "\n",
       "[89420 rows x 11 columns]"
      ]
     },
     "execution_count": 10,
     "metadata": {},
     "output_type": "execute_result"
    }
   ],
   "source": [
    "my_new_data = pd.concat([my_data, my_data2, my_data3], axis=0)\n",
    "my_new_data.reset_index(drop=True, inplace=True)\n",
    "my_new_data"
   ]
  },
  {
   "cell_type": "code",
   "execution_count": 11,
   "id": "15e23fbb",
   "metadata": {},
   "outputs": [
    {
     "data": {
      "text/plain": [
       "gender               89417\n",
       "age                  89420\n",
       "hypertension         89420\n",
       "heart_disease        89420\n",
       "ever_married         89420\n",
       "work_type            89420\n",
       "Residence_type       89420\n",
       "avg_glucose_level    89420\n",
       "bmi                  87757\n",
       "smoking_status       76128\n",
       "stroke               89420\n",
       "dtype: int64"
      ]
     },
     "execution_count": 11,
     "metadata": {},
     "output_type": "execute_result"
    }
   ],
   "source": [
    "my_new_data.count()"
   ]
  },
  {
   "cell_type": "code",
   "execution_count": 12,
   "id": "5a98cb73",
   "metadata": {
    "scrolled": true
   },
   "outputs": [
    {
     "data": {
      "text/plain": [
       "gender               89420\n",
       "age                  89420\n",
       "hypertension         89420\n",
       "heart_disease        89420\n",
       "ever_married         89420\n",
       "work_type            89420\n",
       "Residence_type       89420\n",
       "avg_glucose_level    89420\n",
       "bmi                  89420\n",
       "smoking_status       89420\n",
       "stroke               89420\n",
       "dtype: int64"
      ]
     },
     "execution_count": 12,
     "metadata": {},
     "output_type": "execute_result"
    }
   ],
   "source": [
    "my_new_data.bmi.fillna(my_data.bmi.mean().round(1), inplace=True)\n",
    "my_new_data[\"gender\"].fillna(0,inplace=True)\n",
    "my_new_data['smoking_status'].fillna(np.random.choice([0, 1]), inplace=True)\n",
    "my_new_data.count()"
   ]
  },
  {
   "cell_type": "code",
   "execution_count": 13,
   "id": "241720b0",
   "metadata": {},
   "outputs": [],
   "source": [
    "X = my_new_data.drop('stroke', axis=1)\n",
    "y = my_new_data.stroke"
   ]
  },
  {
   "cell_type": "code",
   "execution_count": 14,
   "id": "106cf5ee",
   "metadata": {},
   "outputs": [
    {
     "name": "stdout",
     "output_type": "stream",
     "text": [
      "X_train shape: (64605, 10)\n",
      "X_val shape: (11402, 10)\n",
      "X_test shape: (13413, 10)\n",
      "y_train shape: (64605,)\n",
      "y_val shape: (11402,)\n",
      "y_test shape: (13413,)\n"
     ]
    }
   ],
   "source": [
    "from sklearn.model_selection import train_test_split\n",
    "\n",
    "# First split: splitting the data into training and testing sets\n",
    "X_train, X_test, y_train, y_test = train_test_split(X, y, test_size=0.15, random_state=42)\n",
    "\n",
    "# Second split: splitting the training set into training and validation sets\n",
    "X_train, X_val, y_train, y_val = train_test_split(X_train, y_train, test_size=0.15, random_state=42)\n",
    "\n",
    "# Check the shapes of the resulting datasets\n",
    "print(\"X_train shape:\", X_train.shape)\n",
    "print(\"X_val shape:\", X_val.shape)\n",
    "print(\"X_test shape:\", X_test.shape)\n",
    "print(\"y_train shape:\", y_train.shape)\n",
    "print(\"y_val shape:\", y_val.shape)\n",
    "print(\"y_test shape:\", y_test.shape)\n"
   ]
  },
  {
   "cell_type": "markdown",
   "id": "e2b1604a",
   "metadata": {},
   "source": [
    "# Training model"
   ]
  },
  {
   "cell_type": "code",
   "execution_count": 15,
   "id": "e9e4d315",
   "metadata": {},
   "outputs": [
    {
     "name": "stdout",
     "output_type": "stream",
     "text": [
      "Accuracy: 0.9885984914927206\n",
      "Classification Report:\n",
      "              precision    recall  f1-score   support\n",
      "\n",
      "           0       0.99      1.00      0.99      8668\n",
      "           1       0.99      0.97      0.98      2734\n",
      "\n",
      "    accuracy                           0.99     11402\n",
      "   macro avg       0.99      0.98      0.98     11402\n",
      "weighted avg       0.99      0.99      0.99     11402\n",
      "\n",
      "Confusion Matrix:\n",
      "[[8632   36]\n",
      " [  94 2640]]\n"
     ]
    }
   ],
   "source": [
    "from sklearn.ensemble import RandomForestClassifier\n",
    "from sklearn.model_selection import train_test_split\n",
    "from sklearn.metrics import accuracy_score, classification_report, confusion_matrix\n",
    "\n",
    "rf_clf = RandomForestClassifier(n_estimators=300, random_state=20)\n",
    "\n",
    "# Train the model\n",
    "rf_clf.fit(X_train, y_train)\n",
    "\n",
    "# Make predictions on the test set\n",
    "y_pred = rf_clf.predict(X_val)\n",
    "\n",
    "# Evaluate the model\n",
    "print(\"Accuracy:\", accuracy_score(y_val, y_pred))\n",
    "print(\"Classification Report:\")\n",
    "print(classification_report(y_val, y_pred))\n",
    "print(\"Confusion Matrix:\")\n",
    "print(confusion_matrix(y_val, y_pred))"
   ]
  },
  {
   "cell_type": "code",
   "execution_count": 16,
   "id": "74142ef3",
   "metadata": {},
   "outputs": [
    {
     "name": "stdout",
     "output_type": "stream",
     "text": [
      "Accuracy: 0.9905315738462686\n",
      "Confusion Matrix:\n",
      "[[10193    45]\n",
      " [   82  3093]]\n"
     ]
    }
   ],
   "source": [
    "y_pred = rf_clf.predict(X_test)\n",
    "print(\"Accuracy:\", accuracy_score(y_test, y_pred))\n",
    "conf_matrix = confusion_matrix(y_test, y_pred)\n",
    "print(\"Confusion Matrix:\")\n",
    "print(conf_matrix)"
   ]
  },
  {
   "cell_type": "code",
   "execution_count": 17,
   "id": "03d4ac7c",
   "metadata": {},
   "outputs": [
    {
     "data": {
      "text/plain": [
       "gender                 0.00\n",
       "age                   35.00\n",
       "hypertension           1.00\n",
       "heart_disease          1.00\n",
       "ever_married           1.00\n",
       "work_type              4.00\n",
       "Residence_type         0.00\n",
       "avg_glucose_level    271.74\n",
       "bmi                   31.10\n",
       "smoking_status         1.00\n",
       "Name: 59675, dtype: float64"
      ]
     },
     "execution_count": 17,
     "metadata": {},
     "output_type": "execute_result"
    }
   ],
   "source": [
    "X_val.iloc[1]"
   ]
  },
  {
   "cell_type": "code",
   "execution_count": 18,
   "id": "3ebacd79",
   "metadata": {},
   "outputs": [],
   "source": [
    "import pickle\n",
    "\n",
    "data = {\"model\":rf_clf,\"encode_gender\":encode_gender,\"encode_work_type\":encode_work_type,\"encode_residence_type\":encode_residence_type,\"encode_smoking_status\":encode_smoking_status,\"encode_marriage_status\":encode_marriage_status}\n",
    "\n",
    "with open('model.pkl', 'wb') as file:\n",
    "    pickle.dump(data, file)"
   ]
  },
  {
   "cell_type": "code",
   "execution_count": null,
   "id": "400d5703",
   "metadata": {},
   "outputs": [],
   "source": []
  }
 ],
 "metadata": {
  "kernelspec": {
   "display_name": "Python 3 (ipykernel)",
   "language": "python",
   "name": "python3"
  },
  "language_info": {
   "codemirror_mode": {
    "name": "ipython",
    "version": 3
   },
   "file_extension": ".py",
   "mimetype": "text/x-python",
   "name": "python",
   "nbconvert_exporter": "python",
   "pygments_lexer": "ipython3",
   "version": "3.10.9"
  }
 },
 "nbformat": 4,
 "nbformat_minor": 5
}
